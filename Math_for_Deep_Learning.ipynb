{
  "nbformat": 4,
  "nbformat_minor": 0,
  "metadata": {
    "colab": {
      "provenance": [],
      "authorship_tag": "ABX9TyOiweEYQi5GgK+aHWlTKZ16",
      "include_colab_link": true
    },
    "kernelspec": {
      "name": "python3",
      "display_name": "Python 3"
    },
    "language_info": {
      "name": "python"
    }
  },
  "cells": [
    {
      "cell_type": "markdown",
      "metadata": {
        "id": "view-in-github",
        "colab_type": "text"
      },
      "source": [
        "<a href=\"https://colab.research.google.com/github/isidoreduc/02456-deep-learning-with-PyTorch/blob/master/Math_for_Deep_Learning.ipynb\" target=\"_parent\"><img src=\"https://colab.research.google.com/assets/colab-badge.svg\" alt=\"Open In Colab\"/></a>"
      ]
    },
    {
      "cell_type": "markdown",
      "source": [
        "# Numpy"
      ],
      "metadata": {
        "id": "9XRcQGggTtrS"
      }
    },
    {
      "cell_type": "code",
      "execution_count": 10,
      "metadata": {
        "colab": {
          "base_uri": "https://localhost:8080/"
        },
        "id": "bStixa_rCCjx",
        "outputId": "246bfaf1-db73-4210-c511-79c0525035f0"
      },
      "outputs": [
        {
          "output_type": "stream",
          "name": "stdout",
          "text": [
            "[[1 2 3]\n",
            " [4 5 6]]\n",
            "int32\n"
          ]
        },
        {
          "output_type": "execute_result",
          "data": {
            "text/plain": [
              "(2, 3)"
            ]
          },
          "metadata": {},
          "execution_count": 10
        }
      ],
      "source": [
        "import numpy as np\n",
        "# create an array in numpy, can specify data type also\n",
        "a = np.array([[1,2,3], [4,5,6]], dtype=\"int32\")\n",
        "print(a)\n",
        "print(a.dtype)\n",
        "a.shape"
      ]
    },
    {
      "cell_type": "markdown",
      "source": [],
      "metadata": {
        "id": "1AQpktcjCDeh"
      }
    },
    {
      "cell_type": "code",
      "source": [
        "# 2D arrays filles with 0s or 1s\n",
        "b = np.zeros((3,4), dtype=\"uint32\")\n",
        "b\n",
        "b[0,3], b[2,2] = 23, 42\n",
        "b"
      ],
      "metadata": {
        "colab": {
          "base_uri": "https://localhost:8080/"
        },
        "id": "mN74fLEVEU-O",
        "outputId": "b2406c53-b4d0-4494-98e2-d96133da3d57"
      },
      "execution_count": 15,
      "outputs": [
        {
          "output_type": "execute_result",
          "data": {
            "text/plain": [
              "array([[ 0,  0,  0, 23],\n",
              "       [ 0,  0,  0,  0],\n",
              "       [ 0,  0, 42,  0]], dtype=uint32)"
            ]
          },
          "metadata": {},
          "execution_count": 15
        }
      ]
    },
    {
      "cell_type": "code",
      "source": [
        "c = 15 * np.ones((3,3), dtype=\"int16\")\n",
        "print(c)\n",
        "d = np.ones((1))\n",
        "d"
      ],
      "metadata": {
        "colab": {
          "base_uri": "https://localhost:8080/"
        },
        "id": "1-hfPRTGIyRR",
        "outputId": "8a2ecbd4-7eed-4fd6-d3b0-b3f45a559803"
      },
      "execution_count": 20,
      "outputs": [
        {
          "output_type": "stream",
          "name": "stdout",
          "text": [
            "[[15 15 15]\n",
            " [15 15 15]\n",
            " [15 15 15]]\n"
          ]
        },
        {
          "output_type": "execute_result",
          "data": {
            "text/plain": [
              "array([1.])"
            ]
          },
          "metadata": {},
          "execution_count": 20
        }
      ]
    },
    {
      "cell_type": "code",
      "source": [
        "# arange function is range from python\n",
        "d = np.arange(12).reshape((4,3))\n",
        "d"
      ],
      "metadata": {
        "colab": {
          "base_uri": "https://localhost:8080/"
        },
        "id": "CkxpZMV3KGHQ",
        "outputId": "267fd859-acb2-44a1-d49a-d271f5e39065"
      },
      "execution_count": 22,
      "outputs": [
        {
          "output_type": "execute_result",
          "data": {
            "text/plain": [
              "array([[ 0,  1,  2],\n",
              "       [ 3,  4,  5],\n",
              "       [ 6,  7,  8],\n",
              "       [ 9, 10, 11]])"
            ]
          },
          "metadata": {},
          "execution_count": 22
        }
      ]
    },
    {
      "cell_type": "code",
      "source": [
        "#  numpy uses : to specify all elements over a specific dimmension (row/column)\n",
        "# print first 2 columns\n",
        "print(d[:, :2])\n",
        "print(\"\\n\")\n",
        "# print first 2 rows and first 2 columns\n",
        "print(d[:2, :2])\n"
      ],
      "metadata": {
        "colab": {
          "base_uri": "https://localhost:8080/"
        },
        "id": "dIsogdJwK_nL",
        "outputId": "228050e5-95e6-4f4a-e86b-58e3b8249a33"
      },
      "execution_count": 38,
      "outputs": [
        {
          "output_type": "stream",
          "name": "stdout",
          "text": [
            "[[ 0  1]\n",
            " [ 3  4]\n",
            " [ 6  7]\n",
            " [ 9 10]]\n",
            "\n",
            "\n",
            "[[0 1]\n",
            " [3 4]]\n"
          ]
        }
      ]
    },
    {
      "cell_type": "code",
      "source": [
        "e = np.arange(16)\n",
        "# extract even numbers\n",
        "print(e[::2])\n",
        "# divisible by 3\n",
        "print(e[::3])\n",
        "# reverse order\n",
        "print(e[::-1])\n",
        "# reverse order 2\n",
        "print(e[::-2])"
      ],
      "metadata": {
        "colab": {
          "base_uri": "https://localhost:8080/"
        },
        "id": "hJEo0g9RO1k1",
        "outputId": "7917e09e-848f-46b9-ab63-875e107e3d34"
      },
      "execution_count": 43,
      "outputs": [
        {
          "output_type": "stream",
          "name": "stdout",
          "text": [
            "[ 0  2  4  6  8 10 12 14]\n",
            "[ 0  3  6  9 12 15]\n",
            "[15 14 13 12 11 10  9  8  7  6  5  4  3  2  1  0]\n",
            "[15 13 11  9  7  5  3  1]\n"
          ]
        }
      ]
    },
    {
      "cell_type": "code",
      "source": [
        "f = np.arange(24).reshape(4,2,3)\n",
        "print(f)\n",
        "# change second 2D array\n",
        "f[1,...] = 22 * np.ones((2,3))\n",
        "print(f)"
      ],
      "metadata": {
        "colab": {
          "base_uri": "https://localhost:8080/"
        },
        "id": "iwGVrzRKQZit",
        "outputId": "83162578-f605-40de-df5f-6541bce9ea8a"
      },
      "execution_count": 49,
      "outputs": [
        {
          "output_type": "stream",
          "name": "stdout",
          "text": [
            "[[[ 0  1  2]\n",
            "  [ 3  4  5]]\n",
            "\n",
            " [[ 6  7  8]\n",
            "  [ 9 10 11]]\n",
            "\n",
            " [[12 13 14]\n",
            "  [15 16 17]]\n",
            "\n",
            " [[18 19 20]\n",
            "  [21 22 23]]]\n",
            "[[[ 0  1  2]\n",
            "  [ 3  4  5]]\n",
            "\n",
            " [[22 22 22]\n",
            "  [22 22 22]]\n",
            "\n",
            " [[12 13 14]\n",
            "  [15 16 17]]\n",
            "\n",
            " [[18 19 20]\n",
            "  [21 22 23]]]\n"
          ]
        }
      ]
    },
    {
      "cell_type": "code",
      "source": [
        "# save to disk\n",
        "g = np.random.randint(2,7, (3,3))\n",
        "np.save(\"random_3by3.npy\",g)\n",
        "h = np.load(\"random_3by3.npy\")\n",
        "h"
      ],
      "metadata": {
        "colab": {
          "base_uri": "https://localhost:8080/"
        },
        "id": "Z9bEQt2BT4HD",
        "outputId": "2f6be87c-fe75-451c-ea9e-65318ea22d05"
      },
      "execution_count": 56,
      "outputs": [
        {
          "output_type": "execute_result",
          "data": {
            "text/plain": [
              "array([[3, 6, 5],\n",
              "       [3, 6, 5],\n",
              "       [3, 3, 3]])"
            ]
          },
          "metadata": {},
          "execution_count": 56
        }
      ]
    },
    {
      "cell_type": "markdown",
      "source": [
        "# SciPy"
      ],
      "metadata": {
        "id": "AlE0Ghl1TlhL"
      }
    },
    {
      "cell_type": "code",
      "source": [
        "import scipy\n"
      ],
      "metadata": {
        "id": "QHkTjpJVVG8Q"
      },
      "execution_count": null,
      "outputs": []
    }
  ]
}